{
 "cells": [
  {
   "cell_type": "markdown",
   "metadata": {},
   "source": [
    "## Linux Basic Permissions\n",
    "\n",
    "In Linux, file and directory permissions play a critical role in controlling access to resources and ensuring system security. Each file and directory has associated permission settings that determine who can read, write, or execute them.\n",
    "Understanding these basic permissions is fundamental to managing user access and protecting sensitive data on a Linux system. This lab focuses on explaining the essential concepts of Linux file permissions, including how to view, interpret, and modify them effectively. By mastering these basics, you'll gain the knowledge needed to manage permissions confidently and securely in various Linux environments.\n",
    "\n",
    "Execute \"/etc/shadow\" command below, it is used to display the contents of the /etc/shadow file in Linux. This file stores encrypted password information for user accounts on the system. "
   ]
  },
  {
   "cell_type": "code",
   "execution_count": null,
   "metadata": {},
   "outputs": [
    {
     "name": "stdout",
     "output_type": "stream",
     "text": [
      "cat: /etc/shadow: Permission denied\n"
     ]
    }
   ],
   "source": [
    "!cat /etc/shadow"
   ]
  },
  {
   "cell_type": "markdown",
   "metadata": {},
   "source": [
    "In Linux, some commands (like: cat /etc/shadow) require enhanced privileges to execute successfully. These commands often involve system-level operations, such as modifying system configurations, accessing sensitive files, or installing software. Without elevated privileges, users may encounter \"Permission denied\" errors when attempting to execute these commands.\n",
    "\n",
    "To overcome permission restrictions and execute commands that require elevated privileges, Linux provides the sudo **(superuser do)** command. Sudo allows users to perform administrative tasks by temporarily escalating their privileges to that of the superuser or another specified user."
   ]
  },
  {
   "cell_type": "code",
   "execution_count": null,
   "metadata": {},
   "outputs": [
    {
     "name": "stdout",
     "output_type": "stream",
     "text": [
      "[sudo] password for cyberforge: \n"
     ]
    }
   ],
   "source": [
    "!sudo cat /etc/shadow"
   ]
  },
  {
   "cell_type": "markdown",
   "metadata": {},
   "source": [
    "When using sudo with the cat /etc/shadow command, the user will be prompted to enter their password (if required by the system's configuration). Once authenticated, sudo grants temporary superuser privileges, enabling the user to read the contents of the /etc/shadow file.\n",
    "\n",
    "### Sudoers File\n",
    "\n",
    "Sudoers file, located typically at /etc/sudoers, is a crucial configuration file in Linux systems governing the sudo command's behavior. It defines which users or groups are granted permission to execute specific commands with elevated privileges using sudo."
   ]
  },
  {
   "cell_type": "code",
   "execution_count": null,
   "metadata": {},
   "outputs": [
    {
     "name": "stdout",
     "output_type": "stream",
     "text": [
      "[sudo] password for cyberforge: #\n",
      "# This file MUST be edited with the 'visudo' command as root.\n",
      "#\n",
      "# Please consider adding local content in /etc/sudoers.d/ instead of\n",
      "# directly modifying this file.\n",
      "#\n",
      "# See the man page for details on how to write a sudoers file.\n",
      "#\n",
      "Defaults\tenv_reset\n",
      "Defaults\tmail_badpass\n",
      "Defaults\tsecure_path=\"/usr/local/sbin:/usr/local/bin:/usr/sbin:/usr/bin:/sbin:/bin:/snap/bin\"\n",
      "Defaults\tuse_pty\n",
      "\n",
      "# This preserves proxy settings from user environments of root\n",
      "# equivalent users (group sudo)\n",
      "#Defaults:%sudo env_keep += \"http_proxy https_proxy ftp_proxy all_proxy no_proxy\"\n",
      "\n",
      "# This allows running arbitrary commands, but so does ALL, and it means\n",
      "# different sudoers have their choice of editor respected.\n",
      "#Defaults:%sudo env_keep += \"EDITOR\"\n",
      "\n",
      "# Completely harmless preservation of a user preference.\n",
      "#Defaults:%sudo env_keep += \"GREP_COLOR\"\n",
      "\n",
      "# While you shouldn't normally run git as root, you need to with etckeeper\n",
      "#Defaults:%sudo env_keep += \"GIT_AUTHOR_* GIT_COMMITTER_*\"\n",
      "\n",
      "# Per-user preferences; root won't have sensible values for them.\n",
      "#Defaults:%sudo env_keep += \"EMAIL DEBEMAIL DEBFULLNAME\"\n",
      "\n",
      "# \"sudo scp\" or \"sudo rsync\" should be able to use your SSH agent.\n",
      "#Defaults:%sudo env_keep += \"SSH_AGENT_PID SSH_AUTH_SOCK\"\n",
      "\n",
      "# Ditto for GPG agent\n",
      "#Defaults:%sudo env_keep += \"GPG_AGENT_INFO\"\n",
      "\n",
      "# Host alias specification\n",
      "\n",
      "# User alias specification\n",
      "\n",
      "# Cmnd alias specification\n",
      "\n",
      "# User privilege specification\n",
      "root\tALL=(ALL:ALL) ALL\n",
      "\n",
      "# Members of the admin group may gain root privileges\n",
      "%admin ALL=(ALL) ALL\n",
      "\n",
      "# Allow members of group sudo to execute any command\n",
      "%sudo\tALL=(ALL:ALL) ALL\n",
      "\n",
      "# See sudoers(5) for more information on \"@include\" directives:\n",
      "\n",
      "@includedir /etc/sudoers.d\n"
     ]
    }
   ],
   "source": [
    "! echo \"employee03\"| sudo -S cat /etc/sudoers"
   ]
  },
  {
   "cell_type": "markdown",
   "metadata": {},
   "source": [
    "### Defaults Section\n",
    "- `env_reset`: Resets the environment to a default state.\n",
    "- `mail_badpass`: Sends mail to the mailto user if the user running `sudo` enters an incorrect password.\n",
    "- `secure_path=\"/usr/local/sbin:/usr/local/bin:/usr/sbin:/usr/bin:/sbin:/bin:/snap/bin\"`: Sets the PATH environment variable for commands run with `sudo` to a secure default value.\n",
    "- `use_pty`: Forces `sudo` to use a pseudo-terminal (PTY) for password prompts.\n",
    "\n",
    "### User Privilege Specification\n",
    "- `root ALL=(ALL:ALL) ALL`: Allows the root user to execute any command from any host as any user.\n",
    "- `%admin ALL=(ALL) ALL`: Grants members of the admin group the same privileges as the root user.\n",
    "- `%sudo ALL=(ALL:ALL) ALL`: Allows members of the sudo group to execute any command as any user from any host.\n",
    "\n",
    "### Custom User Entry\n",
    "- `coder ALL=(ALL) NOPASSWD:ALL`: Grants the user `coder` the ability to execute any command as any user without entering a password (`NOPASSWD`).\n",
    "\n",
    "### @includedir Directive\n",
    "- `@includedir /etc/sudoers.d`: Specifies a directory (`/etc/sudoers.d`) from which additional sudoers configuration files can be included. This allows for modular configuration and organization of sudoers rules.\n"
   ]
  },
  {
   "cell_type": "markdown",
   "metadata": {},
   "source": [
    "### Understanding File Permissions\n",
    "\n",
    "In Linux and other Unix-like operating systems, file permissions determine who can read, write, or execute a file. Permissions are represented by three sets of characters: owner permissions, group permissions, and other permissions.\n",
    "\n",
    "### Symbolic Representation\n",
    "\n",
    "- **r (Read)**: Allows a user to view the contents of a file. If a directory has read permission, a user can list its contents.\n",
    "- **w (Write)**: Allows a user to modify the contents of a file or create new files in a directory.\n",
    "- **x (Execute)**: Allows a user to execute a file if it is a program or script, or traverse a directory if it is executable.\n",
    "\n",
    "### Numeric Representation\n",
    "\n",
    "Each permission is assigned a numeric value:\n",
    "- **Read (r)**: 4\n",
    "- **Write (w)**: 2\n",
    "- **Execute (x)**: 1\n",
    "\n",
    "To calculate the numeric representation of file permissions, add the values of the permissions:\n",
    "- **No permission (---)**: 0\n",
    "- **Execute only (--x)**: 1\n",
    "- **Write only (-w-)**: 2\n",
    "- **Write and execute (-wx)**: 3\n",
    "- **Read only (r--)**: 4\n",
    "- **Read and execute (r-x)**: 5\n",
    "- **Read and write (rw-)**: 6\n",
    "- **Read, write, and execute (rwx)**: 7\n",
    "\n",
    "For example, if a file has permissions `-rwxr-xr--`, the numeric representation for the owner would be `7` (read, write, execute), for the group would be `5` (read, execute), and for others would be `4` (read only).\n",
    "\n",
    "To understand file permissions better, let's create simple text file in our root directory named 'sample.txt' using the following command.\n"
   ]
  },
  {
   "cell_type": "code",
   "execution_count": null,
   "metadata": {},
   "outputs": [
    {
     "name": "stdout",
     "output_type": "stream",
     "text": [
      "first.ipynb  sample.txt  script.sh  typescript\n"
     ]
    }
   ],
   "source": [
    "!echo \"This is a sample file\" > sample.txt && ls"
   ]
  },
  {
   "cell_type": "markdown",
   "metadata": {},
   "source": [
    "### `ls -l` Command\n",
    "\n",
    "The `ls` command is used in Unix-like operating systems to list directory contents. When used with the `-l` option, it displays detailed information about files and directories in a long listing format.\n",
    "\n",
    "### Long Listing Format (`-l`)\n",
    "\n",
    "- **Column 1**: File type and permissions:\n",
    "  - The first character represents the file type:\n",
    "    - `-` for a regular file.\n",
    "    - `d` for a directory.\n",
    "\n",
    "  - The next nine characters represent file permissions:\n",
    "    - The first three characters represent permissions for the **Owner** of the file.\n",
    "    - The next three characters represent permissions for the **Group** that owns the file.\n",
    "    - The last three characters represent permissions for **Others** (users not in the owner group).\n",
    "    - Each set of three characters can be one of the following:\n",
    "      - `r` for read permission.\n",
    "      - `w` for write permission.\n",
    "      - `x` for execute permission.\n",
    "      - `-` if the corresponding permission is not granted.\n",
    "\n",
    "- **Column 2**: Number of links to the file or directory.\n",
    "\n",
    "- **Column 3**: Owner of the file or directory.\n",
    "\n",
    "- **Column 4**: Group associated with the file or directory.\n",
    "\n",
    "- **Column 5**: File size in bytes.\n",
    "\n",
    "- **Column 6-8**: Last modification date and time of the file or directory.\n",
    "\n",
    "- **Column 9**: Name of the file or directory.\n"
   ]
  },
  {
   "cell_type": "code",
   "execution_count": null,
   "metadata": {},
   "outputs": [
    {
     "name": "stdout",
     "output_type": "stream",
     "text": [
      "total 56\n",
      "-rw-r--r-- 1 cyberforge cyberforge 13121 Apr 17 15:02 first.ipynb\n",
      "-rw-r--r-- 1 cyberforge cyberforge    22 Apr 17 14:32 sample.txt\n",
      "-rwsr-xr-x 1 cyberforge cyberforge   186 Apr 17 14:32 \u001b[0m\u001b[37;41mscript.sh\u001b[0m*\n",
      "-rw-rw-r-- 1 cyberforge cyberforge 32311 Apr 17 12:59 typescript\n"
     ]
    }
   ],
   "source": [
    "ls -l"
   ]
  },
  {
   "cell_type": "markdown",
   "metadata": {},
   "source": [
    "### `chmod` Command\n",
    "\n",
    "The `chmod` command is used in Unix-like operating systems to change the permissions (mode) of a file or directory. It stands for \"change mode\".\n",
    "\n",
    "### Basic Syntax\n",
    "\n",
    "The basic syntax of the `chmod` command is: chmod [options] mode filename\n",
    "\n",
    "In symbolic notation, the `chmod` command allows you to specify permissions symbolically using letters and symbols. Here are the key symbols used:\n",
    "\n",
    "- `u`: User (owner of the file)\n",
    "- `g`: Group\n",
    "- `o`: Other (users not in the owner group)\n",
    "- `a`: All (equivalent to `ugo`)\n",
    "- `+`: Adds the specified permissions\n",
    "- `-`: Removes the specified permissions\n",
    "- `=`: Sets the specified permissions explicitly, overriding existing permissions\n",
    "\n",
    "For example:\n",
    "- `chmod u+x file.txt`: Adds execute permission for the owner of `file.txt`.\n",
    "- `chmod go-rw file.txt`: Removes read and write permissions for the group and others on `file.txt`.\n",
    "- `chmod a=rw file.txt`: Sets read and write permissions for all users on `file.txt`.\n",
    "\n",
    "### Numeric Notation\n",
    "\n",
    "In numeric notation, each permission is represented by a digit:\n",
    "- `4`: Read permission\n",
    "- `2`: Write permission\n",
    "- `1`: Execute permission\n",
    "\n",
    "To set permissions numerically, you calculate the sum of the permissions you want to assign:\n",
    "- `0`: No permissions\n",
    "- `1`: Execute permission\n",
    "- `2`: Write permission\n",
    "- `3`: Write and execute permissions\n",
    "- `4`: Read permission\n",
    "- `5`: Read and execute permissions\n",
    "- `6`: Read and write permissions\n",
    "- `7`: Read, write, and execute permissions\n",
    "\n",
    "For example:\n",
    "- `chmod 644 file.txt`: Sets read and write permissions for the owner, and read-only permissions for the group and others on `file.txt`.\n",
    "- `chmod 755 directory`: Sets read, write, and execute permissions for the owner, and read and execute permissions for the group and others on `directory`.\n",
    "\n",
    "\n"
   ]
  },
  {
   "cell_type": "code",
   "execution_count": null,
   "metadata": {},
   "outputs": [
    {
     "name": "stdout",
     "output_type": "stream",
     "text": [
      "total 56\n",
      "-rw-r--r-- 1 cyberforge cyberforge 16161 Apr 17 15:07 first.ipynb\n",
      "--w-r--r-- 1 cyberforge cyberforge    22 Apr 17 14:32 sample.txt\n",
      "--wsr-xr-x 1 cyberforge cyberforge   186 Apr 17 14:32 script.sh\n",
      "-rw-rw-r-- 1 cyberforge cyberforge 32311 Apr 17 12:59 typescript\n"
     ]
    }
   ],
   "source": [
    "!chmod u-r sample.txt && ls -l"
   ]
  },
  {
   "cell_type": "markdown",
   "metadata": {},
   "source": [
    "Here we removed read permission of this file for the owner. Now try to read the contents of the file using the given command."
   ]
  },
  {
   "cell_type": "code",
   "execution_count": null,
   "metadata": {},
   "outputs": [
    {
     "name": "stdout",
     "output_type": "stream",
     "text": [
      "cat: sample.txt: Permission denied\n"
     ]
    }
   ],
   "source": [
    "!cat sample.txt"
   ]
  },
  {
   "cell_type": "markdown",
   "metadata": {},
   "source": [
    "### `chown` Command\n",
    "\n",
    "The `chown` command changes the owner and/or group of a file or directory in Unix-like systems.\n",
    "\n",
    "### Basic Syntax\n",
    "\n",
    "chown [options] new_owner[:new_group] file...\n",
    "\n",
    "\n",
    "### Usage Examples\n",
    "\n",
    "- Change only the owner: `chown new_owner file.txt`\n",
    "- Change only the group: `chown :new_group file.txt`\n",
    "- Change both owner and group: `chown new_owner:new_group file.txt`\n",
    "\n",
    "### Options\n",
    "\n",
    "- `-R`: Recursive mode, changes ownership of a directory and its contents.\n",
    "\n",
    "### Numeric Representation\n",
    "\n",
    "You can specify the owner and group using numeric user and group IDs."
   ]
  },
  {
   "cell_type": "code",
   "execution_count": null,
   "metadata": {},
   "outputs": [
    {
     "name": "stdout",
     "output_type": "stream",
     "text": [
      "[sudo] password for cyberforge: \n"
     ]
    }
   ],
   "source": [
    "! sudo chown root sample.txt && ls -l"
   ]
  },
  {
   "cell_type": "markdown",
   "metadata": {},
   "source": [
    "### SetUID (Set User ID)\n",
    "\n",
    "SetUID is a special permission in Unix-like operating systems that allows a user to execute a file with the permissions of the file's owner rather than the user who runs it.\n",
    "\n",
    "When a SetUID permission is set on an executable file, it allows any user to execute the file with the permissions of the file's owner. This is particularly useful for executable files that require elevated privileges to perform certain operations.\n",
    "\n",
    "### Symbolic Representation\n",
    "\n",
    "The SetUID permission is represented by the letter `s` in the user permission field of the file's mode:\n",
    "\n",
    "- `s`: SetUID is set for the owner of the file.\n",
    "\n",
    "### Usage\n",
    "\n",
    "To set SetUID permission: chmod u+s file\n",
    "\n",
    "To drop SetUID permission: chmod u-s file"
   ]
  },
  {
   "cell_type": "markdown",
   "metadata": {},
   "source": [
    "The following C program demonstrates how SetUID works by retrieving the real and effective user IDs of a process. It prints the real (UID of the user who started the process) and effective user ID (UID with which the process started), creates a file named `test.txt` in the `/tmp` directory, writes \"Hello, world!\" to the file, and then closes the file."
   ]
  },
  {
   "cell_type": "code",
   "execution_count": null,
   "metadata": {},
   "outputs": [
    {
     "name": "stdout",
     "output_type": "stream",
     "text": [
      "Overwriting uid_demo.c\n"
     ]
    }
   ],
   "source": [
    "%%writefile uid_demo.c\n",
    "#include <stdio.h>\n",
    "#include <stdlib.h>\n",
    "#include <unistd.h>\n",
    "\n",
    "int main() {\n",
    "    printf(\"Real user ID: %d\\n\", getuid());\n",
    "    printf(\"Effective user ID: %d\\n\", geteuid());\n",
    "    \n",
    "    FILE *file;\n",
    "    file = fopen(\"/tmp/test.txt\", \"w\");\n",
    "    if (file == NULL) {\n",
    "        perror(\"Error creating file\");\n",
    "        return 1;\n",
    "    }\n",
    "    fprintf(file, \"Hello, world!\\n\");\n",
    "    fclose(file);\n",
    "\n",
    "    return 0;\n",
    "}\n"
   ]
  },
  {
   "cell_type": "markdown",
   "metadata": {},
   "source": [
    "The following command compiles the C program \"uid_demo.c\" using the GNU Compiler Collection (GCC) and generates an executable file named uid_demo."
   ]
  },
  {
   "cell_type": "code",
   "execution_count": null,
   "metadata": {},
   "outputs": [],
   "source": [
    "!gcc uid_demo.c -o uid_demo"
   ]
  },
  {
   "cell_type": "markdown",
   "metadata": {},
   "source": [
    "Now, change transfer ownership of **uid_demo** to root and then set SetUID on the binary. "
   ]
  },
  {
   "cell_type": "code",
   "execution_count": null,
   "metadata": {},
   "outputs": [],
   "source": [
    "!sudo chown root:root uid_demo && chmod u+s uid_demo"
   ]
  },
  {
   "cell_type": "code",
   "execution_count": null,
   "metadata": {},
   "outputs": [
    {
     "name": "stdout",
     "output_type": "stream",
     "text": [
      "Real user ID: 1000\n",
      "Effective user ID: 1000\n"
     ]
    }
   ],
   "source": [
    "!./uid_demo"
   ]
  },
  {
   "cell_type": "markdown",
   "metadata": {},
   "source": [
    "Notice the Effective UID is **0** that of root."
   ]
  },
  {
   "cell_type": "markdown",
   "metadata": {},
   "source": [
    "## SetGID (Set Group ID)\n",
    "\n",
    "SetGID is a special permission in Unix-like systems that allows files or directories to inherit the group ownership of their parent directory.\n",
    "\n",
    "### Basic Concept\n",
    "\n",
    "When SetGID is set on a directory, newly created files inherit the group ownership of the directory instead of the user's default group.\n",
    "\n",
    "### Symbolic Representation\n",
    "\n",
    "The SetGID permission is represented by the letter `s` in the group permission field of the file's mode.\n",
    "\n",
    "### Usage\n",
    "\n",
    "To set SetGID permission: chmod g+s directory\n",
    "\n",
    "To remove SetGID permission: chmod g-s directory\n",
    "\n"
   ]
  },
  {
   "cell_type": "markdown",
   "metadata": {},
   "source": [
    "Create a directory **documents** and set its GID bit."
   ]
  },
  {
   "cell_type": "code",
   "execution_count": null,
   "metadata": {},
   "outputs": [
    {
     "name": "stdout",
     "output_type": "stream",
     "text": [
      "total 64\n",
      "drwxr-sr-x 2 cyberforge cyberforge  4096 Apr 17 15:21 documents\n",
      "-rw-r--r-- 1 cyberforge cyberforge 19245 Apr 17 15:21 first.ipynb\n",
      "--w-r--r-- 1 cyberforge cyberforge    22 Apr 17 14:32 sample.txt\n",
      "--wsr-xr-x 1 cyberforge cyberforge   186 Apr 17 14:32 script.sh\n",
      "-rw-rw-r-- 1 cyberforge cyberforge 32311 Apr 17 12:59 typescript\n"
     ]
    }
   ],
   "source": [
    "!mkdir documents && chmod g+s documents && ls -l"
   ]
  },
  {
   "cell_type": "markdown",
   "metadata": {},
   "source": [
    "Change the owner and group of the directory to root. Now when you will create files in this directory they should be created with root as owner as they will inherit group ownership from its parent directory."
   ]
  },
  {
   "cell_type": "code",
   "execution_count": null,
   "metadata": {},
   "outputs": [
    {
     "name": "stdout",
     "output_type": "stream",
     "text": [
      "[sudo] password for cyberforge: \n"
     ]
    }
   ],
   "source": [
    "! sudo chown root:root documents"
   ]
  },
  {
   "cell_type": "code",
   "execution_count": null,
   "metadata": {},
   "outputs": [
    {
     "name": "stdout",
     "output_type": "stream",
     "text": [
      "[sudo] password for cyberforge: \n"
     ]
    }
   ],
   "source": [
    "! cd documents | sudo touch bankDetails.txt && ls -l"
   ]
  },
  {
   "cell_type": "markdown",
   "metadata": {},
   "source": [
    "Notice that the newly created file **bankDetails.txt** although created by user 'coder' still its owner group is root since its inheriting these properties."
   ]
  },
  {
   "cell_type": "code",
   "execution_count": 27,
   "metadata": {},
   "outputs": [
    {
     "name": "stdout",
     "output_type": "stream",
     "text": [
      "cat: /etc/shadow: Permission denied\n"
     ]
    }
   ],
   "source": [
    "!cat /etc/shadow"
   ]
  },
  {
   "cell_type": "markdown",
   "metadata": {},
   "source": [
    "In Linux, some commands (like: cat /etc/shadow) require enhanced privileges to execute successfully. These commands often involve system-level operations, such as modifying system configurations, accessing sensitive files, or installing software. Without elevated privileges, users may encounter \"Permission denied\" errors when attempting to execute these commands.\n",
    "\n",
    "To overcome permission restrictions and execute commands that require elevated privileges, Linux provides the sudo **(superuser do)** command. Sudo allows users to perform administrative tasks by temporarily escalating their privileges to that of the superuser or another specified user."
   ]
  },
  {
   "cell_type": "code",
   "execution_count": 26,
   "metadata": {},
   "outputs": [
    {
     "name": "stdout",
     "output_type": "stream",
     "text": [
      "[sudo] password for cyberforge: \n"
     ]
    }
   ],
   "source": [
    "!sudo cat /etc/shadow"
   ]
  },
  {
   "cell_type": "markdown",
   "metadata": {},
   "source": [
    "When using sudo with the cat /etc/shadow command, the user will be prompted to enter their password (if required by the system's configuration). Once authenticated, sudo grants temporary superuser privileges, enabling the user to read the contents of the /etc/shadow file.\n",
    "\n",
    "### Sudoers File\n",
    "\n",
    "Sudoers file, located typically at /etc/sudoers, is a crucial configuration file in Linux systems governing the sudo command's behavior. It defines which users or groups are granted permission to execute specific commands with elevated privileges using sudo."
   ]
  },
  {
   "cell_type": "code",
   "execution_count": 29,
   "metadata": {},
   "outputs": [
    {
     "name": "stdout",
     "output_type": "stream",
     "text": [
      "[sudo] password for cyberforge: #\n",
      "# This file MUST be edited with the 'visudo' command as root.\n",
      "#\n",
      "# Please consider adding local content in /etc/sudoers.d/ instead of\n",
      "# directly modifying this file.\n",
      "#\n",
      "# See the man page for details on how to write a sudoers file.\n",
      "#\n",
      "Defaults\tenv_reset\n",
      "Defaults\tmail_badpass\n",
      "Defaults\tsecure_path=\"/usr/local/sbin:/usr/local/bin:/usr/sbin:/usr/bin:/sbin:/bin:/snap/bin\"\n",
      "Defaults\tuse_pty\n",
      "\n",
      "# This preserves proxy settings from user environments of root\n",
      "# equivalent users (group sudo)\n",
      "#Defaults:%sudo env_keep += \"http_proxy https_proxy ftp_proxy all_proxy no_proxy\"\n",
      "\n",
      "# This allows running arbitrary commands, but so does ALL, and it means\n",
      "# different sudoers have their choice of editor respected.\n",
      "#Defaults:%sudo env_keep += \"EDITOR\"\n",
      "\n",
      "# Completely harmless preservation of a user preference.\n",
      "#Defaults:%sudo env_keep += \"GREP_COLOR\"\n",
      "\n",
      "# While you shouldn't normally run git as root, you need to with etckeeper\n",
      "#Defaults:%sudo env_keep += \"GIT_AUTHOR_* GIT_COMMITTER_*\"\n",
      "\n",
      "# Per-user preferences; root won't have sensible values for them.\n",
      "#Defaults:%sudo env_keep += \"EMAIL DEBEMAIL DEBFULLNAME\"\n",
      "\n",
      "# \"sudo scp\" or \"sudo rsync\" should be able to use your SSH agent.\n",
      "#Defaults:%sudo env_keep += \"SSH_AGENT_PID SSH_AUTH_SOCK\"\n",
      "\n",
      "# Ditto for GPG agent\n",
      "#Defaults:%sudo env_keep += \"GPG_AGENT_INFO\"\n",
      "\n",
      "# Host alias specification\n",
      "\n",
      "# User alias specification\n",
      "\n",
      "# Cmnd alias specification\n",
      "\n",
      "# User privilege specification\n",
      "root\tALL=(ALL:ALL) ALL\n",
      "\n",
      "# Members of the admin group may gain root privileges\n",
      "%admin ALL=(ALL) ALL\n",
      "\n",
      "# Allow members of group sudo to execute any command\n",
      "%sudo\tALL=(ALL:ALL) ALL\n",
      "\n",
      "# See sudoers(5) for more information on \"@include\" directives:\n",
      "\n",
      "@includedir /etc/sudoers.d\n"
     ]
    }
   ],
   "source": [
    "! echo \"employee03\"| sudo -S cat /etc/sudoers"
   ]
  },
  {
   "cell_type": "markdown",
   "metadata": {},
   "source": [
    "### Defaults Section\n",
    "- `env_reset`: Resets the environment to a default state.\n",
    "- `mail_badpass`: Sends mail to the mailto user if the user running `sudo` enters an incorrect password.\n",
    "- `secure_path=\"/usr/local/sbin:/usr/local/bin:/usr/sbin:/usr/bin:/sbin:/bin:/snap/bin\"`: Sets the PATH environment variable for commands run with `sudo` to a secure default value.\n",
    "- `use_pty`: Forces `sudo` to use a pseudo-terminal (PTY) for password prompts.\n",
    "\n",
    "### User Privilege Specification\n",
    "- `root ALL=(ALL:ALL) ALL`: Allows the root user to execute any command from any host as any user.\n",
    "- `%admin ALL=(ALL) ALL`: Grants members of the admin group the same privileges as the root user.\n",
    "- `%sudo ALL=(ALL:ALL) ALL`: Allows members of the sudo group to execute any command as any user from any host.\n",
    "\n",
    "### Custom User Entry\n",
    "- `coder ALL=(ALL) NOPASSWD:ALL`: Grants the user `coder` the ability to execute any command as any user without entering a password (`NOPASSWD`).\n",
    "\n",
    "### @includedir Directive\n",
    "- `@includedir /etc/sudoers.d`: Specifies a directory (`/etc/sudoers.d`) from which additional sudoers configuration files can be included. This allows for modular configuration and organization of sudoers rules.\n"
   ]
  },
  {
   "cell_type": "markdown",
   "metadata": {},
   "source": [
    "### Understanding File Permissions\n",
    "\n",
    "In Linux and other Unix-like operating systems, file permissions determine who can read, write, or execute a file. Permissions are represented by three sets of characters: owner permissions, group permissions, and other permissions.\n",
    "\n",
    "### Symbolic Representation\n",
    "\n",
    "- **r (Read)**: Allows a user to view the contents of a file. If a directory has read permission, a user can list its contents.\n",
    "- **w (Write)**: Allows a user to modify the contents of a file or create new files in a directory.\n",
    "- **x (Execute)**: Allows a user to execute a file if it is a program or script, or traverse a directory if it is executable.\n",
    "\n",
    "### Numeric Representation\n",
    "\n",
    "Each permission is assigned a numeric value:\n",
    "- **Read (r)**: 4\n",
    "- **Write (w)**: 2\n",
    "- **Execute (x)**: 1\n",
    "\n",
    "To calculate the numeric representation of file permissions, add the values of the permissions:\n",
    "- **No permission (---)**: 0\n",
    "- **Execute only (--x)**: 1\n",
    "- **Write only (-w-)**: 2\n",
    "- **Write and execute (-wx)**: 3\n",
    "- **Read only (r--)**: 4\n",
    "- **Read and execute (r-x)**: 5\n",
    "- **Read and write (rw-)**: 6\n",
    "- **Read, write, and execute (rwx)**: 7\n",
    "\n",
    "For example, if a file has permissions `-rwxr-xr--`, the numeric representation for the owner would be `7` (read, write, execute), for the group would be `5` (read, execute), and for others would be `4` (read only).\n",
    "\n",
    "To understand file permissions better, let's create simple text file in our root directory named 'sample.txt' using the following command.\n"
   ]
  },
  {
   "cell_type": "code",
   "execution_count": 30,
   "metadata": {},
   "outputs": [
    {
     "name": "stdout",
     "output_type": "stream",
     "text": [
      "first.ipynb  sample.txt  script.sh  typescript\n"
     ]
    }
   ],
   "source": [
    "!echo \"This is a sample file\" > sample.txt && ls"
   ]
  },
  {
   "cell_type": "markdown",
   "metadata": {},
   "source": [
    "### `ls -l` Command\n",
    "\n",
    "The `ls` command is used in Unix-like operating systems to list directory contents. When used with the `-l` option, it displays detailed information about files and directories in a long listing format.\n",
    "\n",
    "### Long Listing Format (`-l`)\n",
    "\n",
    "- **Column 1**: File type and permissions:\n",
    "  - The first character represents the file type:\n",
    "    - `-` for a regular file.\n",
    "    - `d` for a directory.\n",
    "\n",
    "  - The next nine characters represent file permissions:\n",
    "    - The first three characters represent permissions for the **Owner** of the file.\n",
    "    - The next three characters represent permissions for the **Group** that owns the file.\n",
    "    - The last three characters represent permissions for **Others** (users not in the owner group).\n",
    "    - Each set of three characters can be one of the following:\n",
    "      - `r` for read permission.\n",
    "      - `w` for write permission.\n",
    "      - `x` for execute permission.\n",
    "      - `-` if the corresponding permission is not granted.\n",
    "\n",
    "- **Column 2**: Number of links to the file or directory.\n",
    "\n",
    "- **Column 3**: Owner of the file or directory.\n",
    "\n",
    "- **Column 4**: Group associated with the file or directory.\n",
    "\n",
    "- **Column 5**: File size in bytes.\n",
    "\n",
    "- **Column 6-8**: Last modification date and time of the file or directory.\n",
    "\n",
    "- **Column 9**: Name of the file or directory.\n"
   ]
  },
  {
   "cell_type": "code",
   "execution_count": 31,
   "metadata": {},
   "outputs": [
    {
     "name": "stdout",
     "output_type": "stream",
     "text": [
      "total 56\n",
      "-rw-r--r-- 1 cyberforge cyberforge 13121 Apr 17 15:02 first.ipynb\n",
      "-rw-r--r-- 1 cyberforge cyberforge    22 Apr 17 14:32 sample.txt\n",
      "-rwsr-xr-x 1 cyberforge cyberforge   186 Apr 17 14:32 \u001b[0m\u001b[37;41mscript.sh\u001b[0m*\n",
      "-rw-rw-r-- 1 cyberforge cyberforge 32311 Apr 17 12:59 typescript\n"
     ]
    }
   ],
   "source": [
    "ls -l"
   ]
  },
  {
   "cell_type": "markdown",
   "metadata": {},
   "source": [
    "### `chmod` Command\n",
    "\n",
    "The `chmod` command is used in Unix-like operating systems to change the permissions (mode) of a file or directory. It stands for \"change mode\".\n",
    "\n",
    "### Basic Syntax\n",
    "\n",
    "The basic syntax of the `chmod` command is: chmod [options] mode filename\n",
    "\n",
    "In symbolic notation, the `chmod` command allows you to specify permissions symbolically using letters and symbols. Here are the key symbols used:\n",
    "\n",
    "- `u`: User (owner of the file)\n",
    "- `g`: Group\n",
    "- `o`: Other (users not in the owner group)\n",
    "- `a`: All (equivalent to `ugo`)\n",
    "- `+`: Adds the specified permissions\n",
    "- `-`: Removes the specified permissions\n",
    "- `=`: Sets the specified permissions explicitly, overriding existing permissions\n",
    "\n",
    "For example:\n",
    "- `chmod u+x file.txt`: Adds execute permission for the owner of `file.txt`.\n",
    "- `chmod go-rw file.txt`: Removes read and write permissions for the group and others on `file.txt`.\n",
    "- `chmod a=rw file.txt`: Sets read and write permissions for all users on `file.txt`.\n",
    "\n",
    "### Numeric Notation\n",
    "\n",
    "In numeric notation, each permission is represented by a digit:\n",
    "- `4`: Read permission\n",
    "- `2`: Write permission\n",
    "- `1`: Execute permission\n",
    "\n",
    "To set permissions numerically, you calculate the sum of the permissions you want to assign:\n",
    "- `0`: No permissions\n",
    "- `1`: Execute permission\n",
    "- `2`: Write permission\n",
    "- `3`: Write and execute permissions\n",
    "- `4`: Read permission\n",
    "- `5`: Read and execute permissions\n",
    "- `6`: Read and write permissions\n",
    "- `7`: Read, write, and execute permissions\n",
    "\n",
    "For example:\n",
    "- `chmod 644 file.txt`: Sets read and write permissions for the owner, and read-only permissions for the group and others on `file.txt`.\n",
    "- `chmod 755 directory`: Sets read, write, and execute permissions for the owner, and read and execute permissions for the group and others on `directory`.\n",
    "\n",
    "\n"
   ]
  },
  {
   "cell_type": "code",
   "execution_count": 35,
   "metadata": {},
   "outputs": [
    {
     "name": "stdout",
     "output_type": "stream",
     "text": [
      "total 56\n",
      "-rw-r--r-- 1 cyberforge cyberforge 16161 Apr 17 15:07 first.ipynb\n",
      "--w-r--r-- 1 cyberforge cyberforge    22 Apr 17 14:32 sample.txt\n",
      "--wsr-xr-x 1 cyberforge cyberforge   186 Apr 17 14:32 script.sh\n",
      "-rw-rw-r-- 1 cyberforge cyberforge 32311 Apr 17 12:59 typescript\n"
     ]
    }
   ],
   "source": [
    "!chmod u-r sample.txt && ls -l"
   ]
  },
  {
   "cell_type": "markdown",
   "metadata": {},
   "source": [
    "Here we removed read permission of this file for the owner. Now try to read the contents of the file using the given command."
   ]
  },
  {
   "cell_type": "code",
   "execution_count": 36,
   "metadata": {},
   "outputs": [
    {
     "name": "stdout",
     "output_type": "stream",
     "text": [
      "cat: sample.txt: Permission denied\n"
     ]
    }
   ],
   "source": [
    "!cat sample.txt"
   ]
  },
  {
   "cell_type": "markdown",
   "metadata": {},
   "source": [
    "### `chown` Command\n",
    "\n",
    "The `chown` command changes the owner and/or group of a file or directory in Unix-like systems.\n",
    "\n",
    "### Basic Syntax\n",
    "\n",
    "chown [options] new_owner[:new_group] file...\n",
    "\n",
    "\n",
    "### Usage Examples\n",
    "\n",
    "- Change only the owner: `chown new_owner file.txt`\n",
    "- Change only the group: `chown :new_group file.txt`\n",
    "- Change both owner and group: `chown new_owner:new_group file.txt`\n",
    "\n",
    "### Options\n",
    "\n",
    "- `-R`: Recursive mode, changes ownership of a directory and its contents.\n",
    "\n",
    "### Numeric Representation\n",
    "\n",
    "You can specify the owner and group using numeric user and group IDs."
   ]
  },
  {
   "cell_type": "code",
   "execution_count": 38,
   "metadata": {},
   "outputs": [
    {
     "name": "stdout",
     "output_type": "stream",
     "text": [
      "[sudo] password for cyberforge: \n"
     ]
    }
   ],
   "source": [
    "! sudo chown root sample.txt && ls -l"
   ]
  },
  {
   "cell_type": "markdown",
   "metadata": {},
   "source": [
    "### SetUID (Set User ID)\n",
    "\n",
    "SetUID is a special permission in Unix-like operating systems that allows a user to execute a file with the permissions of the file's owner rather than the user who runs it.\n",
    "\n",
    "When a SetUID permission is set on an executable file, it allows any user to execute the file with the permissions of the file's owner. This is particularly useful for executable files that require elevated privileges to perform certain operations.\n",
    "\n",
    "### Symbolic Representation\n",
    "\n",
    "The SetUID permission is represented by the letter `s` in the user permission field of the file's mode:\n",
    "\n",
    "- `s`: SetUID is set for the owner of the file.\n",
    "\n",
    "### Usage\n",
    "\n",
    "To set SetUID permission: chmod u+s file\n",
    "\n",
    "To drop SetUID permission: chmod u-s file"
   ]
  },
  {
   "cell_type": "markdown",
   "metadata": {},
   "source": [
    "The following C program demonstrates how SetUID works by retrieving the real and effective user IDs of a process. It prints the real (UID of the user who started the process) and effective user ID (UID with which the process started), creates a file named `test.txt` in the `/tmp` directory, writes \"Hello, world!\" to the file, and then closes the file."
   ]
  },
  {
   "cell_type": "code",
   "execution_count": 68,
   "metadata": {},
   "outputs": [
    {
     "name": "stdout",
     "output_type": "stream",
     "text": [
      "Overwriting uid_demo.c\n"
     ]
    }
   ],
   "source": [
    "%%writefile uid_demo.c\n",
    "#include <stdio.h>\n",
    "#include <stdlib.h>\n",
    "#include <unistd.h>\n",
    "\n",
    "int main() {\n",
    "    printf(\"Real user ID: %d\\n\", getuid());\n",
    "    printf(\"Effective user ID: %d\\n\", geteuid());\n",
    "    \n",
    "    FILE *file;\n",
    "    file = fopen(\"/tmp/test.txt\", \"w\");\n",
    "    if (file == NULL) {\n",
    "        perror(\"Error creating file\");\n",
    "        return 1;\n",
    "    }\n",
    "    fprintf(file, \"Hello, world!\\n\");\n",
    "    fclose(file);\n",
    "\n",
    "    return 0;\n",
    "}\n"
   ]
  },
  {
   "cell_type": "markdown",
   "metadata": {},
   "source": [
    "The following command compiles the C program \"uid_demo.c\" using the GNU Compiler Collection (GCC) and generates an executable file named uid_demo."
   ]
  },
  {
   "cell_type": "code",
   "execution_count": 66,
   "metadata": {},
   "outputs": [],
   "source": [
    "!gcc uid_demo.c -o uid_demo"
   ]
  },
  {
   "cell_type": "markdown",
   "metadata": {},
   "source": [
    "Now, change transfer ownership of **uid_demo** to root and then set SetUID on the binary. "
   ]
  },
  {
   "cell_type": "code",
   "execution_count": 63,
   "metadata": {},
   "outputs": [],
   "source": [
    "!sudo chown root:root uid_demo && chmod u+s uid_demo"
   ]
  },
  {
   "cell_type": "code",
   "execution_count": 69,
   "metadata": {},
   "outputs": [
    {
     "name": "stdout",
     "output_type": "stream",
     "text": [
      "Real user ID: 1000\n",
      "Effective user ID: 1000\n"
     ]
    }
   ],
   "source": [
    "!./uid_demo"
   ]
  },
  {
   "cell_type": "markdown",
   "metadata": {},
   "source": [
    "Notice the Effective UID is **0** that of root."
   ]
  },
  {
   "cell_type": "markdown",
   "metadata": {},
   "source": [
    "## SetGID (Set Group ID)\n",
    "\n",
    "SetGID is a special permission in Unix-like systems that allows files or directories to inherit the group ownership of their parent directory.\n",
    "\n",
    "### Basic Concept\n",
    "\n",
    "When SetGID is set on a directory, newly created files inherit the group ownership of the directory instead of the user's default group.\n",
    "\n",
    "### Symbolic Representation\n",
    "\n",
    "The SetGID permission is represented by the letter `s` in the group permission field of the file's mode.\n",
    "\n",
    "### Usage\n",
    "\n",
    "To set SetGID permission: chmod g+s directory\n",
    "\n",
    "To remove SetGID permission: chmod g-s directory\n",
    "\n"
   ]
  },
  {
   "cell_type": "markdown",
   "metadata": {},
   "source": [
    "Create a directory **documents** and set its GID bit."
   ]
  },
  {
   "cell_type": "code",
   "execution_count": 43,
   "metadata": {},
   "outputs": [
    {
     "name": "stdout",
     "output_type": "stream",
     "text": [
      "total 64\n",
      "drwxr-sr-x 2 cyberforge cyberforge  4096 Apr 17 15:21 documents\n",
      "-rw-r--r-- 1 cyberforge cyberforge 19245 Apr 17 15:21 first.ipynb\n",
      "--w-r--r-- 1 cyberforge cyberforge    22 Apr 17 14:32 sample.txt\n",
      "--wsr-xr-x 1 cyberforge cyberforge   186 Apr 17 14:32 script.sh\n",
      "-rw-rw-r-- 1 cyberforge cyberforge 32311 Apr 17 12:59 typescript\n"
     ]
    }
   ],
   "source": [
    "!mkdir documents && chmod g+s documents && ls -l"
   ]
  },
  {
   "cell_type": "markdown",
   "metadata": {},
   "source": [
    "Change the owner and group of the directory to root. Now when you will create files in this directory they should be created with root as owner as they will inherit group ownership from its parent directory."
   ]
  },
  {
   "cell_type": "code",
   "execution_count": 44,
   "metadata": {},
   "outputs": [
    {
     "name": "stdout",
     "output_type": "stream",
     "text": [
      "[sudo] password for cyberforge: \n"
     ]
    }
   ],
   "source": [
    "! sudo chown root:root documents"
   ]
  },
  {
   "cell_type": "code",
   "execution_count": 45,
   "metadata": {},
   "outputs": [
    {
     "name": "stdout",
     "output_type": "stream",
     "text": [
      "[sudo] password for cyberforge: \n"
     ]
    }
   ],
   "source": [
    "! cd documents | sudo touch bankDetails.txt && ls -l"
   ]
  },
  {
   "cell_type": "markdown",
   "metadata": {},
   "source": [
    "Notice that the newly created file **bankDetails.txt** although created by user 'coder' still its owner group is root since its inheriting these properties."
   ]
  }
 ],
 "metadata": {
  "kernelspec": {
   "display_name": "Python 3",
   "language": "python",
   "name": "python3"
  },
  "language_info": {
   "codemirror_mode": {
    "name": "ipython",
    "version": 3
   },
   "file_extension": ".py",
   "mimetype": "text/x-python",
   "name": "python",
   "nbconvert_exporter": "python",
   "pygments_lexer": "ipython3",
   "version": "3.10.12"
  }
 },
 "nbformat": 4,
 "nbformat_minor": 2
}
